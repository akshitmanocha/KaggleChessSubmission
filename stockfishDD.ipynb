{
 "cells": [
  {
   "cell_type": "code",
   "execution_count": 1,
   "id": "b70c2f90",
   "metadata": {
    "execution": {
     "iopub.execute_input": "2024-12-23T11:12:01.034784Z",
     "iopub.status.busy": "2024-12-23T11:12:01.034259Z",
     "iopub.status.idle": "2024-12-23T11:12:12.281718Z",
     "shell.execute_reply": "2024-12-23T11:12:12.280284Z"
    },
    "papermill": {
     "duration": 11.255482,
     "end_time": "2024-12-23T11:12:12.284363",
     "exception": false,
     "start_time": "2024-12-23T11:12:01.028881",
     "status": "completed"
    },
    "tags": []
   },
   "outputs": [
    {
     "name": "stdout",
     "output_type": "stream",
     "text": [
      "Get:1 https://packages.cloud.google.com/apt gcsfuse-focal InRelease [1227 B]\r\n",
      "Get:2 http://security.ubuntu.com/ubuntu focal-security InRelease [128 kB]\r\n",
      "Hit:3 http://archive.ubuntu.com/ubuntu focal InRelease\r\n",
      "Get:4 http://archive.ubuntu.com/ubuntu focal-updates InRelease [128 kB]\r\n",
      "Get:5 https://packages.cloud.google.com/apt cloud-sdk InRelease [1618 B]\r\n",
      "Get:6 https://packages.cloud.google.com/apt gcsfuse-focal/main amd64 Packages [30.1 kB]\r\n",
      "Get:7 http://archive.ubuntu.com/ubuntu focal-backports InRelease [128 kB]\r\n",
      "Get:8 https://packages.cloud.google.com/apt cloud-sdk/main amd64 Packages [3482 kB]\r\n",
      "Get:9 http://security.ubuntu.com/ubuntu focal-security/restricted amd64 Packages [4227 kB]\r\n",
      "Get:10 https://packages.cloud.google.com/apt cloud-sdk/main all Packages [1600 kB]\r\n",
      "Get:11 http://archive.ubuntu.com/ubuntu focal-updates/main amd64 Packages [4639 kB]\r\n",
      "Get:12 http://security.ubuntu.com/ubuntu focal-security/universe amd64 Packages [1296 kB]\r\n",
      "Get:13 http://security.ubuntu.com/ubuntu focal-security/main amd64 Packages [4157 kB]\r\n",
      "Get:14 http://archive.ubuntu.com/ubuntu focal-updates/multiverse amd64 Packages [34.6 kB]\r\n",
      "Get:15 http://archive.ubuntu.com/ubuntu focal-updates/universe amd64 Packages [1587 kB]\r\n",
      "Get:16 http://archive.ubuntu.com/ubuntu focal-updates/restricted amd64 Packages [4426 kB]\r\n",
      "Fetched 25.9 MB in 3s (10.2 MB/s)\r\n",
      "Reading package lists...\r\n",
      "Reading package lists...\r\n",
      "Building dependency tree...\r\n",
      "Reading state information...\r\n",
      "g++ is already the newest version (4:9.3.0-1ubuntu2).\r\n",
      "g++ set to manually installed.\r\n",
      "make is already the newest version (4.2.1-1.2).\r\n",
      "make set to manually installed.\r\n",
      "0 upgraded, 0 newly installed, 0 to remove and 61 not upgraded.\r\n"
     ]
    }
   ],
   "source": [
    "!cp -r /kaggle/input/fish4-5/stockfish-dd-src/src_c11 /kaggle/working/\n",
    "!sudo apt-get update --quiet\n",
    "!sudo apt-get install -y g++ make --quiet"
   ]
  },
  {
   "cell_type": "code",
   "execution_count": 2,
   "id": "99950b9d",
   "metadata": {
    "execution": {
     "iopub.execute_input": "2024-12-23T11:12:12.295735Z",
     "iopub.status.busy": "2024-12-23T11:12:12.294714Z",
     "iopub.status.idle": "2024-12-23T11:12:41.423983Z",
     "shell.execute_reply": "2024-12-23T11:12:41.422278Z"
    },
    "papermill": {
     "duration": 29.138195,
     "end_time": "2024-12-23T11:12:41.427004",
     "exception": false,
     "start_time": "2024-12-23T11:12:12.288809",
     "status": "completed"
    },
    "tags": []
   },
   "outputs": [
    {
     "name": "stdout",
     "output_type": "stream",
     "text": [
      "/kaggle/working/src_c11\n",
      "make ARCH=x86-64 COMP=gcc config-sanity\r\n",
      "make[1]: Entering directory '/kaggle/working/src_c11'\r\n",
      "\r\n",
      "Config:\r\n",
      "debug: 'no'\r\n",
      "optimize: 'yes'\r\n",
      "arch: 'x86_64'\r\n",
      "os: 'any'\r\n",
      "bits: '64'\r\n",
      "prefetch: 'yes'\r\n",
      "bsfq: 'yes'\r\n",
      "popcnt: 'no'\r\n",
      "sse: 'yes'\r\n",
      "\r\n",
      "Flags:\r\n",
      "CXX: g++\r\n",
      "CXXFLAGS: -Wall -Wcast-qual -fno-exceptions -fno-rtti -std=c++11  -pedantic -Wno-long-long -Wextra -Wshadow -DNDEBUG -O3 -DIS_64BIT -msse -DUSE_BSFQ -flto\r\n",
      "LDFLAGS:  -lpthread -Wall -Wcast-qual -fno-exceptions -fno-rtti -std=c++11  -pedantic -Wno-long-long -Wextra -Wshadow -DNDEBUG -O3 -DIS_64BIT -msse -DUSE_BSFQ -flto\r\n",
      "\r\n",
      "Testing config sanity. If this fails, try 'make help' ...\r\n",
      "\r\n",
      "make[1]: Leaving directory '/kaggle/working/src_c11'\r\n",
      "make ARCH=x86-64 COMP=gcc all\r\n",
      "make[1]: Entering directory '/kaggle/working/src_c11'\r\n",
      "g++ -Wall -Wcast-qual -fno-exceptions -fno-rtti -std=c++11  -pedantic -Wno-long-long -Wextra -Wshadow -DNDEBUG -O3 -DIS_64BIT -msse -DUSE_BSFQ -flto   -c -o benchmark.o benchmark.cpp\r\n",
      "g++ -Wall -Wcast-qual -fno-exceptions -fno-rtti -std=c++11  -pedantic -Wno-long-long -Wextra -Wshadow -DNDEBUG -O3 -DIS_64BIT -msse -DUSE_BSFQ -flto   -c -o bitbase.o bitbase.cpp\r\n",
      "g++ -Wall -Wcast-qual -fno-exceptions -fno-rtti -std=c++11  -pedantic -Wno-long-long -Wextra -Wshadow -DNDEBUG -O3 -DIS_64BIT -msse -DUSE_BSFQ -flto   -c -o bitboard.o bitboard.cpp\r\n",
      "g++ -Wall -Wcast-qual -fno-exceptions -fno-rtti -std=c++11  -pedantic -Wno-long-long -Wextra -Wshadow -DNDEBUG -O3 -DIS_64BIT -msse -DUSE_BSFQ -flto   -c -o book.o book.cpp\r\n",
      "g++ -Wall -Wcast-qual -fno-exceptions -fno-rtti -std=c++11  -pedantic -Wno-long-long -Wextra -Wshadow -DNDEBUG -O3 -DIS_64BIT -msse -DUSE_BSFQ -flto   -c -o endgame.o endgame.cpp\r\n",
      "g++ -Wall -Wcast-qual -fno-exceptions -fno-rtti -std=c++11  -pedantic -Wno-long-long -Wextra -Wshadow -DNDEBUG -O3 -DIS_64BIT -msse -DUSE_BSFQ -flto   -c -o evaluate.o evaluate.cpp\r\n",
      "g++ -Wall -Wcast-qual -fno-exceptions -fno-rtti -std=c++11  -pedantic -Wno-long-long -Wextra -Wshadow -DNDEBUG -O3 -DIS_64BIT -msse -DUSE_BSFQ -flto   -c -o main.o main.cpp\r\n",
      "g++ -Wall -Wcast-qual -fno-exceptions -fno-rtti -std=c++11  -pedantic -Wno-long-long -Wextra -Wshadow -DNDEBUG -O3 -DIS_64BIT -msse -DUSE_BSFQ -flto   -c -o material.o material.cpp\r\n",
      "g++ -Wall -Wcast-qual -fno-exceptions -fno-rtti -std=c++11  -pedantic -Wno-long-long -Wextra -Wshadow -DNDEBUG -O3 -DIS_64BIT -msse -DUSE_BSFQ -flto   -c -o misc.o misc.cpp\r\n",
      "g++ -Wall -Wcast-qual -fno-exceptions -fno-rtti -std=c++11  -pedantic -Wno-long-long -Wextra -Wshadow -DNDEBUG -O3 -DIS_64BIT -msse -DUSE_BSFQ -flto   -c -o movegen.o movegen.cpp\r\n",
      "g++ -Wall -Wcast-qual -fno-exceptions -fno-rtti -std=c++11  -pedantic -Wno-long-long -Wextra -Wshadow -DNDEBUG -O3 -DIS_64BIT -msse -DUSE_BSFQ -flto   -c -o movepick.o movepick.cpp\r\n",
      "\u001b[01m\u001b[Kmovepick.cpp:\u001b[m\u001b[K In member function '\u001b[01m\u001b[Kvoid MovePicker::generate_next()\u001b[m\u001b[K':\r\n",
      "\u001b[01m\u001b[Kmovepick.cpp:274:13:\u001b[m\u001b[K \u001b[01;35m\u001b[Kwarning: \u001b[m\u001b[Kthis statement may fall through [\u001b[01;35m\u001b[K-Wimplicit-fallthrough=\u001b[m\u001b[K]\r\n",
      "  274 |       \u001b[01;35m\u001b[Kstage = STOP\u001b[m\u001b[K;\r\n",
      "      |       \u001b[01;35m\u001b[K~~~~~~^~~~~~\u001b[m\u001b[K\r\n",
      "\u001b[01m\u001b[Kmovepick.cpp:275:3:\u001b[m\u001b[K \u001b[01;36m\u001b[Knote: \u001b[m\u001b[Khere\r\n",
      "  275 |   \u001b[01;36m\u001b[Kcase\u001b[m\u001b[K STOP:\r\n",
      "      |   \u001b[01;36m\u001b[K^~~~\u001b[m\u001b[K\r\n",
      "g++ -Wall -Wcast-qual -fno-exceptions -fno-rtti -std=c++11  -pedantic -Wno-long-long -Wextra -Wshadow -DNDEBUG -O3 -DIS_64BIT -msse -DUSE_BSFQ -flto   -c -o notation.o notation.cpp\r\n",
      "g++ -Wall -Wcast-qual -fno-exceptions -fno-rtti -std=c++11  -pedantic -Wno-long-long -Wextra -Wshadow -DNDEBUG -O3 -DIS_64BIT -msse -DUSE_BSFQ -flto   -c -o pawns.o pawns.cpp\r\n",
      "g++ -Wall -Wcast-qual -fno-exceptions -fno-rtti -std=c++11  -pedantic -Wno-long-long -Wextra -Wshadow -DNDEBUG -O3 -DIS_64BIT -msse -DUSE_BSFQ -flto   -c -o position.o position.cpp\r\n",
      "g++ -Wall -Wcast-qual -fno-exceptions -fno-rtti -std=c++11  -pedantic -Wno-long-long -Wextra -Wshadow -DNDEBUG -O3 -DIS_64BIT -msse -DUSE_BSFQ -flto   -c -o search.o search.cpp\r\n",
      "g++ -Wall -Wcast-qual -fno-exceptions -fno-rtti -std=c++11  -pedantic -Wno-long-long -Wextra -Wshadow -DNDEBUG -O3 -DIS_64BIT -msse -DUSE_BSFQ -flto   -c -o thread.o thread.cpp\r\n",
      "g++ -Wall -Wcast-qual -fno-exceptions -fno-rtti -std=c++11  -pedantic -Wno-long-long -Wextra -Wshadow -DNDEBUG -O3 -DIS_64BIT -msse -DUSE_BSFQ -flto   -c -o timeman.o timeman.cpp\r\n",
      "g++ -Wall -Wcast-qual -fno-exceptions -fno-rtti -std=c++11  -pedantic -Wno-long-long -Wextra -Wshadow -DNDEBUG -O3 -DIS_64BIT -msse -DUSE_BSFQ -flto   -c -o tt.o tt.cpp\r\n",
      "g++ -Wall -Wcast-qual -fno-exceptions -fno-rtti -std=c++11  -pedantic -Wno-long-long -Wextra -Wshadow -DNDEBUG -O3 -DIS_64BIT -msse -DUSE_BSFQ -flto   -c -o uci.o uci.cpp\r\n",
      "g++ -Wall -Wcast-qual -fno-exceptions -fno-rtti -std=c++11  -pedantic -Wno-long-long -Wextra -Wshadow -DNDEBUG -O3 -DIS_64BIT -msse -DUSE_BSFQ -flto   -c -o ucioption.o ucioption.cpp\r\n",
      "g++ -o stockfish benchmark.o bitbase.o bitboard.o book.o endgame.o evaluate.o main.o material.o misc.o movegen.o movepick.o notation.o pawns.o position.o search.o thread.o timeman.o tt.o uci.o ucioption.o  -lpthread -Wall -Wcast-qual -fno-exceptions -fno-rtti -std=c++11  -pedantic -Wno-long-long -Wextra -Wshadow -DNDEBUG -O3 -DIS_64BIT -msse -DUSE_BSFQ -flto\r\n",
      "make[1]: Leaving directory '/kaggle/working/src_c11'\r\n"
     ]
    }
   ],
   "source": [
    "%cd /kaggle/working/src_c11\n",
    "!make build ARCH=x86-64"
   ]
  },
  {
   "cell_type": "code",
   "execution_count": 3,
   "id": "75532750",
   "metadata": {
    "execution": {
     "iopub.execute_input": "2024-12-23T11:12:41.440349Z",
     "iopub.status.busy": "2024-12-23T11:12:41.439949Z",
     "iopub.status.idle": "2024-12-23T11:12:42.734636Z",
     "shell.execute_reply": "2024-12-23T11:12:42.733101Z"
    },
    "papermill": {
     "duration": 1.304622,
     "end_time": "2024-12-23T11:12:42.737442",
     "exception": false,
     "start_time": "2024-12-23T11:12:41.432820",
     "status": "completed"
    },
    "tags": []
   },
   "outputs": [
    {
     "name": "stdout",
     "output_type": "stream",
     "text": [
      "Stockfish DD 64 by Tord Romstad, Marco Costalba and Joona Kiiski\r\n",
      "id name Stockfish DD 64\r\n",
      "id author Tord Romstad, Marco Costalba and Joona Kiiski\r\n",
      "\r\n",
      "option name Write Debug Log type check default false\r\n",
      "option name Write Search Log type check default false\r\n",
      "option name Search Log Filename type string default SearchLog.txt\r\n",
      "option name Book File type string default book.bin\r\n",
      "option name Best Book Move type check default false\r\n",
      "option name Contempt Factor type spin default 0 min -50 max 50\r\n",
      "option name Mobility (Midgame) type spin default 100 min 0 max 200\r\n",
      "option name Mobility (Endgame) type spin default 100 min 0 max 200\r\n",
      "option name Pawn Structure (Midgame) type spin default 100 min 0 max 200\r\n",
      "option name Pawn Structure (Endgame) type spin default 100 min 0 max 200\r\n",
      "option name Passed Pawns (Midgame) type spin default 100 min 0 max 200\r\n",
      "option name Passed Pawns (Endgame) type spin default 100 min 0 max 200\r\n",
      "option name Space type spin default 100 min 0 max 200\r\n",
      "option name Aggressiveness type spin default 100 min 0 max 200\r\n",
      "option name Cowardice type spin default 100 min 0 max 200\r\n",
      "option name Min Split Depth type spin default 0 min 0 max 12\r\n",
      "option name Max Threads per Split Point type spin default 5 min 4 max 8\r\n",
      "option name Threads type spin default 1 min 1 max 64\r\n",
      "option name Idle Threads Sleep type check default false\r\n",
      "option name Hash type spin default 32 min 1 max 8192\r\n",
      "option name Clear Hash type button\r\n",
      "option name Ponder type check default true\r\n",
      "option name OwnBook type check default false\r\n",
      "option name MultiPV type spin default 1 min 1 max 500\r\n",
      "option name Skill Level type spin default 20 min 0 max 20\r\n",
      "option name Emergency Move Horizon type spin default 40 min 0 max 50\r\n",
      "option name Emergency Base Time type spin default 60 min 0 max 30000\r\n",
      "option name Emergency Move Time type spin default 30 min 0 max 5000\r\n",
      "option name Minimum Thinking Time type spin default 20 min 0 max 5000\r\n",
      "option name Slow Mover type spin default 70 min 10 max 1000\r\n",
      "option name UCI_Chess960 type check default false\r\n",
      "option name UCI_AnalyseMode type check default false\r\n",
      "uciok\r\n"
     ]
    }
   ],
   "source": [
    "!./stockfish uci"
   ]
  },
  {
   "cell_type": "code",
   "execution_count": 4,
   "id": "4953a93a",
   "metadata": {
    "execution": {
     "iopub.execute_input": "2024-12-23T11:12:42.752335Z",
     "iopub.status.busy": "2024-12-23T11:12:42.751832Z",
     "iopub.status.idle": "2024-12-23T11:12:45.126508Z",
     "shell.execute_reply": "2024-12-23T11:12:45.124776Z"
    },
    "papermill": {
     "duration": 2.385805,
     "end_time": "2024-12-23T11:12:45.129400",
     "exception": false,
     "start_time": "2024-12-23T11:12:42.743595",
     "status": "completed"
    },
    "tags": []
   },
   "outputs": [],
   "source": [
    "!mv stockfish /kaggle/working/\n",
    "!strip /kaggle/working/stockfish"
   ]
  },
  {
   "cell_type": "code",
   "execution_count": 5,
   "id": "2dc247e6",
   "metadata": {
    "execution": {
     "iopub.execute_input": "2024-12-23T11:12:45.143193Z",
     "iopub.status.busy": "2024-12-23T11:12:45.142691Z",
     "iopub.status.idle": "2024-12-23T11:12:45.153377Z",
     "shell.execute_reply": "2024-12-23T11:12:45.151951Z"
    },
    "papermill": {
     "duration": 0.020485,
     "end_time": "2024-12-23T11:12:45.155701",
     "exception": false,
     "start_time": "2024-12-23T11:12:45.135216",
     "status": "completed"
    },
    "tags": []
   },
   "outputs": [
    {
     "name": "stdout",
     "output_type": "stream",
     "text": [
      "Writing /kaggle/working/main.py\n"
     ]
    }
   ],
   "source": [
    "%%writefile /kaggle/working/main.py\n",
    "\n",
    "import subprocess\n",
    "import os\n",
    "import psutil\n",
    "\n",
    "\n",
    "class ChessEngine:\n",
    "    def __init__(self, engine_path):\n",
    "        self.engine = subprocess.Popen(\n",
    "            [engine_path],\n",
    "            stdin=subprocess.PIPE,\n",
    "            stdout=subprocess.PIPE,\n",
    "            stderr=subprocess.PIPE,\n",
    "            text=True\n",
    "        )\n",
    "        print(\"RAM usage before engine initialization:\", self.get_memory_usage(), \"MB\")\n",
    "        self._initialize_engine()\n",
    "        print(\"RAM usage after engine initialization:\", self.get_memory_usage(), \"MB\")\n",
    "\n",
    "    def _initialize_engine(self):\n",
    "        self._send_command(\"uci\")\n",
    "        while True:\n",
    "            output = self._read_output()\n",
    "            if output == \"uciok\":\n",
    "                break\n",
    "        self._send_command(\"setoption name Hash value 1\")\n",
    "\n",
    "        \n",
    "    def _send_command(self, command):\n",
    "        self.engine.stdin.write(command + \"\\n\")\n",
    "        self.engine.stdin.flush()\n",
    "\n",
    "    def _read_output(self):\n",
    "        output = self.engine.stdout.readline().strip()\n",
    "        return output\n",
    "\n",
    "    def get_memory_usage(self):\n",
    "        process = psutil.Process(self.engine.pid)\n",
    "        return process.memory_info().rss / (1024 * 1024)  # Convert bytes to MB\n",
    "\n",
    "    def get_best_move(self, fen, movetime=200):\n",
    "        # print(\"RAM usage before thinking:\", self.get_memory_usage(), \"MB\")\n",
    "        self._send_command(f\"position fen {fen}\")\n",
    "        self._send_command(f\"go movetime {movetime}\")\n",
    "        best_move = None\n",
    "        while True:\n",
    "            output = self._read_output()\n",
    "            if output.startswith(\"bestmove\"):\n",
    "                best_move = output.split()[1]\n",
    "                break\n",
    "        # print(\"RAM usage after thinking:\", self.get_memory_usage(), \"MB\")\n",
    "        print(\"\")\n",
    "        self._send_command(\"setoption name Clear Hash\")\n",
    "        return best_move\n",
    "\n",
    "    def stop(self):\n",
    "        self._send_command(\"quit\")\n",
    "        self.engine.terminate()\n",
    "        self.engine.wait()\n",
    "\n",
    "ultima = None\n",
    "\n",
    "def chess_bot(obs):\n",
    "    global ultima\n",
    "    fen = obs['board']\n",
    "    if os.path.exists('/kaggle_simulations/agent/stockfish'):\n",
    "        engine_path = '/kaggle_simulations/agent/stockfish'\n",
    "    else:\n",
    "        engine_path = '/kaggle/working/stockfish'\n",
    "    if ultima is None:\n",
    "        ultima = ChessEngine(engine_path)\n",
    "    best_move = ultima.get_best_move(fen)\n",
    "    return best_move"
   ]
  },
  {
   "cell_type": "code",
   "execution_count": 6,
   "id": "e67a188a",
   "metadata": {
    "execution": {
     "iopub.execute_input": "2024-12-23T11:12:45.170454Z",
     "iopub.status.busy": "2024-12-23T11:12:45.170047Z",
     "iopub.status.idle": "2024-12-23T11:12:46.352953Z",
     "shell.execute_reply": "2024-12-23T11:12:46.351714Z"
    },
    "papermill": {
     "duration": 1.194109,
     "end_time": "2024-12-23T11:12:46.355722",
     "exception": false,
     "start_time": "2024-12-23T11:12:45.161613",
     "status": "completed"
    },
    "tags": []
   },
   "outputs": [
    {
     "name": "stdout",
     "output_type": "stream",
     "text": [
      "/kaggle/working\n",
      "main.py\r\n",
      "tar: mcu-max-uci: Cannot stat: No such file or directory\r\n",
      "tar: Exiting with failure status due to previous errors\r\n"
     ]
    }
   ],
   "source": [
    "%cd /kaggle/working\n",
    "!tar -czvf submission.tar.gz main.py mcu-max-uci"
   ]
  },
  {
   "cell_type": "code",
   "execution_count": 7,
   "id": "60eb1b71",
   "metadata": {
    "execution": {
     "iopub.execute_input": "2024-12-23T11:12:46.371143Z",
     "iopub.status.busy": "2024-12-23T11:12:46.370704Z",
     "iopub.status.idle": "2024-12-23T11:12:46.376032Z",
     "shell.execute_reply": "2024-12-23T11:12:46.374822Z"
    },
    "papermill": {
     "duration": 0.016384,
     "end_time": "2024-12-23T11:12:46.378207",
     "exception": false,
     "start_time": "2024-12-23T11:12:46.361823",
     "status": "completed"
    },
    "tags": []
   },
   "outputs": [],
   "source": [
    "# !pip install --upgrade kaggle-environments --quiet\n",
    "# from kaggle_environments import make\n",
    "# env = make(\"chess\", debug=True)"
   ]
  },
  {
   "cell_type": "code",
   "execution_count": 8,
   "id": "4813a25f",
   "metadata": {
    "execution": {
     "iopub.execute_input": "2024-12-23T11:12:46.391689Z",
     "iopub.status.busy": "2024-12-23T11:12:46.391299Z",
     "iopub.status.idle": "2024-12-23T11:12:46.396622Z",
     "shell.execute_reply": "2024-12-23T11:12:46.395116Z"
    },
    "papermill": {
     "duration": 0.014996,
     "end_time": "2024-12-23T11:12:46.399285",
     "exception": false,
     "start_time": "2024-12-23T11:12:46.384289",
     "status": "completed"
    },
    "tags": []
   },
   "outputs": [],
   "source": [
    "# result = env.run([\"/kaggle/working/main.py\",\"random\"])\n",
    "# for agent in result[-1]:\n",
    "#    print(\"Status:\", agent.status, \"/ Reward:\", agent.reward, \"/ Time left:\", agent.observation.remainingOverageTime)\n",
    "# env.render(mode=\"ipython\", width=700, height=700)"
   ]
  },
  {
   "cell_type": "code",
   "execution_count": null,
   "id": "6da47ae2",
   "metadata": {
    "papermill": {
     "duration": 0.005394,
     "end_time": "2024-12-23T11:12:46.410572",
     "exception": false,
     "start_time": "2024-12-23T11:12:46.405178",
     "status": "completed"
    },
    "tags": []
   },
   "outputs": [],
   "source": []
  }
 ],
 "metadata": {
  "kaggle": {
   "accelerator": "none",
   "dataSources": [
    {
     "databundleVersionId": 9818394,
     "sourceId": 86524,
     "sourceType": "competition"
    },
    {
     "datasetId": 6327718,
     "sourceId": 10233690,
     "sourceType": "datasetVersion"
    },
    {
     "datasetId": 6327849,
     "sourceId": 10233882,
     "sourceType": "datasetVersion"
    },
    {
     "datasetId": 6328028,
     "sourceId": 10234141,
     "sourceType": "datasetVersion"
    },
    {
     "datasetId": 6353951,
     "sourceId": 10269753,
     "sourceType": "datasetVersion"
    },
    {
     "datasetId": 6354057,
     "sourceId": 10269895,
     "sourceType": "datasetVersion"
    },
    {
     "datasetId": 6354247,
     "sourceId": 10270160,
     "sourceType": "datasetVersion"
    },
    {
     "datasetId": 6354769,
     "sourceId": 10270885,
     "sourceType": "datasetVersion"
    }
   ],
   "dockerImageVersionId": 30804,
   "isGpuEnabled": false,
   "isInternetEnabled": true,
   "language": "python",
   "sourceType": "notebook"
  },
  "kernelspec": {
   "display_name": "Python 3",
   "language": "python",
   "name": "python3"
  },
  "language_info": {
   "codemirror_mode": {
    "name": "ipython",
    "version": 3
   },
   "file_extension": ".py",
   "mimetype": "text/x-python",
   "name": "python",
   "nbconvert_exporter": "python",
   "pygments_lexer": "ipython3",
   "version": "3.10.14"
  },
  "papermill": {
   "default_parameters": {},
   "duration": 49.386251,
   "end_time": "2024-12-23T11:12:46.837948",
   "environment_variables": {},
   "exception": null,
   "input_path": "__notebook__.ipynb",
   "output_path": "__notebook__.ipynb",
   "parameters": {},
   "start_time": "2024-12-23T11:11:57.451697",
   "version": "2.6.0"
  }
 },
 "nbformat": 4,
 "nbformat_minor": 5
}
